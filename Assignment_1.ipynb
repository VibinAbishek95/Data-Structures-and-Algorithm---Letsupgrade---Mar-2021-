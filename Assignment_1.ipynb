{
  "nbformat": 4,
  "nbformat_minor": 0,
  "metadata": {
    "colab": {
      "name": "Assignment 1.ipynb",
      "provenance": [],
      "collapsed_sections": [],
      "authorship_tag": "ABX9TyNNRmydrfPf2Og100tfsaKb",
      "include_colab_link": true
    },
    "kernelspec": {
      "name": "python3",
      "display_name": "Python 3"
    }
  },
  "cells": [
    {
      "cell_type": "markdown",
      "metadata": {
        "id": "view-in-github",
        "colab_type": "text"
      },
      "source": [
        "<a href=\"https://colab.research.google.com/github/VibinAbishek95/Data-Structures-and-Algorithm---Letsupgrade---Mar-2021-/blob/main/Assignment_1.ipynb\" target=\"_parent\"><img src=\"https://colab.research.google.com/assets/colab-badge.svg\" alt=\"Open In Colab\"/></a>"
      ]
    },
    {
      "cell_type": "markdown",
      "metadata": {
        "id": "zDz-X4WnBw_m"
      },
      "source": [
        "**First** **Question**"
      ]
    },
    {
      "cell_type": "code",
      "metadata": {
        "colab": {
          "base_uri": "https://localhost:8080/"
        },
        "id": "ks78y51fB3gg",
        "outputId": "0229116d-7010-4d48-dbcf-207556ab8358"
      },
      "source": [
        "x = float(input(\"Enter the first number:\"))\r\n",
        "y = float(input(\"Enter the second number:\"))\r\n",
        "print(x**y)\r\n"
      ],
      "execution_count": 1,
      "outputs": [
        {
          "output_type": "stream",
          "text": [
            "Enter the first number:7\n",
            "Enter the second number:8\n",
            "5764801.0\n"
          ],
          "name": "stdout"
        }
      ]
    },
    {
      "cell_type": "markdown",
      "metadata": {
        "id": "ERvcHHVqCU1N"
      },
      "source": [
        "**Second** **Question**"
      ]
    },
    {
      "cell_type": "code",
      "metadata": {
        "colab": {
          "base_uri": "https://localhost:8080/"
        },
        "id": "Yd2UUdYTCf1W",
        "outputId": "e1af6cfd-eaab-4697-d39f-40ce33c1e8e1"
      },
      "source": [
        "lst = list(map(int,input(\"Enter elements of list:\").split()))\r\n",
        "new_lst = [i for i in lst if i%2 == 0]\r\n",
        "print(new_lst)\r\n"
      ],
      "execution_count": 6,
      "outputs": [
        {
          "output_type": "stream",
          "text": [
            "Enter elements of list:1 2 4 5 7 8 12 15\n",
            "[2, 4, 8, 12]\n"
          ],
          "name": "stdout"
        }
      ]
    }
  ]
}