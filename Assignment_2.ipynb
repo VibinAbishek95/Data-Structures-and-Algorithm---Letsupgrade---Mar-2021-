{
  "nbformat": 4,
  "nbformat_minor": 0,
  "metadata": {
    "colab": {
      "name": "Assignment 2.ipynb",
      "provenance": [],
      "authorship_tag": "ABX9TyP1nQ9WoaSkihD4KErecFid",
      "include_colab_link": true
    },
    "kernelspec": {
      "name": "python3",
      "display_name": "Python 3"
    }
  },
  "cells": [
    {
      "cell_type": "markdown",
      "metadata": {
        "id": "view-in-github",
        "colab_type": "text"
      },
      "source": [
        "<a href=\"https://colab.research.google.com/github/VibinAbishek95/Data-Structures-and-Algorithm---Letsupgrade---Mar-2021-/blob/main/Assignment_2.ipynb\" target=\"_parent\"><img src=\"https://colab.research.google.com/assets/colab-badge.svg\" alt=\"Open In Colab\"/></a>"
      ]
    },
    {
      "cell_type": "markdown",
      "metadata": {
        "id": "z5kAJGWpLXe5"
      },
      "source": [
        "**Find the time complexity of the following Pseudo Code**\r\n",
        "\r\n",
        "**for( i = 1 ; i <= n ; i = i*2)**\r\n",
        "\r\n",
        "**for( j = 1 ; j <= i ; j++)**\r\n",
        "\r\n",
        "**print(“Hello”)**\r\n",
        "\r\n",
        "***Solution***:\r\n",
        "\t\r\n",
        "Time Complexity of Code is: O(n^2)\r\n"
      ]
    },
    {
      "cell_type": "markdown",
      "metadata": {
        "id": "tzMllx48Lxtx"
      },
      "source": [
        ""
      ]
    }
  ]
}