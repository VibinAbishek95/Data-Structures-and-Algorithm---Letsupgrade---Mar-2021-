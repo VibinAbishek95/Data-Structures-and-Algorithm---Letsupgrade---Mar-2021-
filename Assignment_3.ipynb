{
  "nbformat": 4,
  "nbformat_minor": 0,
  "metadata": {
    "colab": {
      "name": "Assignment 3.ipynb",
      "provenance": [],
      "authorship_tag": "ABX9TyN6W/82GVIecH8aM52fx3b/",
      "include_colab_link": true
    },
    "kernelspec": {
      "name": "python3",
      "display_name": "Python 3"
    }
  },
  "cells": [
    {
      "cell_type": "markdown",
      "metadata": {
        "id": "view-in-github",
        "colab_type": "text"
      },
      "source": [
        "<a href=\"https://colab.research.google.com/github/VibinAbishek95/Data-Structures-and-Algorithm---Letsupgrade---Mar-2021-/blob/main/Assignment_3.ipynb\" target=\"_parent\"><img src=\"https://colab.research.google.com/assets/colab-badge.svg\" alt=\"Open In Colab\"/></a>"
      ]
    },
    {
      "cell_type": "code",
      "metadata": {
        "colab": {
          "base_uri": "https://localhost:8080/"
        },
        "id": "_POTkLGZMF6C",
        "outputId": "9c79bdc3-3fc0-49e7-ddaf-e940984b7c07"
      },
      "source": [
        "class MovieNode:\r\n",
        "  def __init__(self,movieName,relDate,genre):\r\n",
        "    self.movieName = movieName\r\n",
        "    self.relDate = relDate\r\n",
        "    self.genre = genre\r\n",
        "    self.next = None\r\n",
        "    return\r\n",
        "\r\n",
        "class MoviesList:\r\n",
        "  def __init__(self):\r\n",
        "    self.head = None\r\n",
        "    return\r\n",
        "  \r\n",
        "  def addMovie(self,movieName,relDate,genre):\r\n",
        "    new_movie = MovieNode(movieName,relDate,genre)\r\n",
        "    if self.head == None:\r\n",
        "      self.head = new_movie\r\n",
        "      return\r\n",
        "    new_movie.next = self.head\r\n",
        "    self.head = new_movie\r\n",
        "    return\r\n",
        "\r\n",
        "  def delMovie(self):\r\n",
        "    if self.head == None:\r\n",
        "      print(\"There are no movies in the list\")\r\n",
        "      return\r\n",
        "    temp = self.head\r\n",
        "    while temp != None:\r\n",
        "      if temp.next.next == None:\r\n",
        "        temp.next = None\r\n",
        "        return\r\n",
        "      temp = temp.next\r\n",
        "    return\r\n",
        "\r\n",
        "  def display(self):\r\n",
        "    if self.head == None:\r\n",
        "      print(\"No movies to show\")\r\n",
        "      return\r\n",
        "    temp = self.head\r\n",
        "    while temp != None:\r\n",
        "      print(temp.movieName, temp.relDate, temp.genre)\r\n",
        "      temp = temp.next\r\n",
        "    return\r\n",
        "\r\n",
        "movies_list = MoviesList()\r\n",
        "while True:\r\n",
        "  movie_name = input(\"Enter movie name: \")\r\n",
        "  if movie_name == \"\": break\r\n",
        "  rel_date = input(\"Enter release date: \")\r\n",
        "  genre = input(\"Enter genre: \")\r\n",
        "  movies_list.addMovie(movie_name,rel_date,genre)\r\n",
        "  print()\r\n",
        "\r\n",
        "movies_list.display()\r\n",
        "print()\r\n",
        "print(\"Deleting the oldest movie.\")\r\n",
        "movies_list.delMovie()\r\n",
        "print()\r\n",
        "movies_list.display()"
      ],
      "execution_count": 4,
      "outputs": [
        {
          "output_type": "stream",
          "text": [
            "Enter movie name: Star Wars: The Last Jedi (Episode VIII)\n",
            "Enter release date: 9 December 2017\n",
            "Enter genre: Sci-Fi/Action\n",
            "\n",
            "Enter movie name: The A-Team\n",
            "Enter release date: 25 June 2010\n",
            "Enter genre: Action/Adventure\n",
            "\n",
            "Enter movie name: The Shawshank Redemption\n",
            "Enter release date: 22 September 1994\n",
            "Enter genre: Drama/Crime\n",
            "\n",
            "Enter movie name: Need for Speed\n",
            "Enter release date: 21 March 2014\n",
            "Enter genre: Action/Drama\n",
            "\n",
            "Enter movie name: \n",
            "Need for Speed 21 March 2014 Action/Drama\n",
            "The Shawshank Redemption 22 September 1994 Drama/Crime\n",
            "The A-Team 25 June 2010 Action/Adventure\n",
            "Star Wars: The Last Jedi (Episode VIII) 9 December 2017 Sci-Fi/Action\n",
            "\n",
            "Deleting the oldest movie.\n",
            "\n",
            "Need for Speed 21 March 2014 Action/Drama\n",
            "The Shawshank Redemption 22 September 1994 Drama/Crime\n",
            "The A-Team 25 June 2010 Action/Adventure\n"
          ],
          "name": "stdout"
        }
      ]
    }
  ]
}